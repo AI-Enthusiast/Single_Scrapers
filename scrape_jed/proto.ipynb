{
 "cells": [
  {
   "cell_type": "code",
   "id": "initial_id",
   "metadata": {
    "collapsed": true,
    "ExecuteTime": {
     "end_time": "2024-12-29T23:45:57.136190Z",
     "start_time": "2024-12-29T23:45:57.134407Z"
    }
   },
   "source": [
    "import requests\n",
    "from bs4 import BeautifulSoup\n",
    "import pandas as pd"
   ],
   "outputs": [],
   "execution_count": 89
  },
  {
   "metadata": {
    "ExecuteTime": {
     "end_time": "2024-12-29T23:45:57.188357Z",
     "start_time": "2024-12-29T23:45:57.186608Z"
    }
   },
   "cell_type": "code",
   "source": [
    "url_prefix = \"https://jrembold.github.io\"\n",
    "url_suffix = \"/Website_Backup/classes/\"\n",
    "url = url_prefix + url_suffix"
   ],
   "id": "96fce33ac8a1ddf7",
   "outputs": [],
   "execution_count": 90
  },
  {
   "metadata": {
    "ExecuteTime": {
     "end_time": "2024-12-29T23:45:57.380588Z",
     "start_time": "2024-12-29T23:45:57.229017Z"
    }
   },
   "cell_type": "code",
   "source": [
    "raw = requests.get(url)\n",
    "soup = BeautifulSoup(raw.content, \"html.parser\")"
   ],
   "id": "df0d8cefe973c5df",
   "outputs": [],
   "execution_count": 91
  },
  {
   "metadata": {},
   "cell_type": "markdown",
   "source": [
    "<div class=\"6u -3u 12u$(small) 12u$(xsmall)\">\n",
    "    <a href=\"/Website_Backup/classes/cs151/cs151/\">\n",
    "        <div class=\"mainbox\">\n",
    "            <h3>Intro to Programming with Python</h3>\n",
    "        </div>\n",
    "    </a>\n",
    "</div>"
   ],
   "id": "3aef6e6d716ad570"
  },
  {
   "metadata": {
    "ExecuteTime": {
     "end_time": "2024-12-29T23:45:57.407330Z",
     "start_time": "2024-12-29T23:45:57.404372Z"
    }
   },
   "cell_type": "code",
   "source": [
    "# get all the classes\n",
    "classes = soup.find_all(\"div\", class_=\"6u -3u 12u$(small) 12u$(xsmall)\")\n",
    "class_names = [c.find(\"h3\").text for c in classes]\n",
    "class_links = [c.find(\"a\")[\"href\"] for c in classes]"
   ],
   "id": "d82e392cf99ec88",
   "outputs": [],
   "execution_count": 92
  },
  {
   "metadata": {
    "ExecuteTime": {
     "end_time": "2024-12-29T23:45:57.454363Z",
     "start_time": "2024-12-29T23:45:57.451751Z"
    }
   },
   "cell_type": "code",
   "source": "class_names",
   "id": "3b13f0f59d456c9c",
   "outputs": [
    {
     "data": {
      "text/plain": [
       "['Data Management with SQL', 'Intro to Programming with Python']"
      ]
     },
     "execution_count": 93,
     "metadata": {},
     "output_type": "execute_result"
    }
   ],
   "execution_count": 93
  },
  {
   "metadata": {
    "ExecuteTime": {
     "end_time": "2024-12-29T23:45:57.599131Z",
     "start_time": "2024-12-29T23:45:57.595748Z"
    }
   },
   "cell_type": "code",
   "source": [
    "class_links\n",
    "# remove the second to last slash from each link\n",
    "class_links = [c[:c.rfind(\"/\")] for c in class_links]\n",
    "class_links = [c[:c.rfind(\"/\")] for c in class_links]\n",
    "class_links"
   ],
   "id": "2224db364a3ac0bc",
   "outputs": [
    {
     "data": {
      "text/plain": [
       "['/Website_Backup/classes/data351', '/Website_Backup/classes/cs151']"
      ]
     },
     "execution_count": 94,
     "metadata": {},
     "output_type": "execute_result"
    }
   ],
   "execution_count": 94
  },
  {
   "metadata": {
    "ExecuteTime": {
     "end_time": "2024-12-29T23:45:57.645698Z",
     "start_time": "2024-12-29T23:45:57.643294Z"
    }
   },
   "cell_type": "code",
   "source": [
    "# get each class url\n",
    "class_url = url_prefix + class_links[1] + '/slides/'\n",
    "class_url"
   ],
   "id": "3d9079b6cfc10877",
   "outputs": [
    {
     "data": {
      "text/plain": [
       "'https://jrembold.github.io/Website_Backup/classes/cs151/slides/'"
      ]
     },
     "execution_count": 95,
     "metadata": {},
     "output_type": "execute_result"
    }
   ],
   "execution_count": 95
  },
  {
   "metadata": {
    "ExecuteTime": {
     "end_time": "2024-12-29T23:45:57.840236Z",
     "start_time": "2024-12-29T23:45:57.690491Z"
    }
   },
   "cell_type": "code",
   "source": [
    "# get al the slide links for each class\n",
    "raw = requests.get(class_url)\n",
    "soup = BeautifulSoup(raw.content, \"html.parser\")"
   ],
   "id": "d5ab3a89aaf69cc2",
   "outputs": [],
   "execution_count": 96
  },
  {
   "metadata": {},
   "cell_type": "markdown",
   "source": [
    "<tr>\n",
    "    <td><a href=\"/Website_Backup/class_files/cs151/Slides/slides/Ch8_3.html\">Lecture 37</a></td>\n",
    "    <td>Mon, Dec 2</td>\n",
    "    <td>Emerging Recursion</td>\n",
    "        <td>\n",
    "            <div class=\"vid youtube vtable\" style=\"background-image:url(https://i.ytimg.com/vi/p0FTPIxH1Z8/mqdefault.jpg;\" ytsrc=\"p0FTPIxH1Z8\" data-video-password=\"538d7d9fe78e7baac47a9fbd6f2c68845ecca72dbdc2b47b4c5a0f5620ab8e93\">\n",
    "            </div>\n",
    "        </td>\n",
    "</tr>"
   ],
   "id": "2d0674027c5431f1"
  },
  {
   "metadata": {
    "ExecuteTime": {
     "end_time": "2024-12-29T23:49:05.293227Z",
     "start_time": "2024-12-29T23:49:05.287857Z"
    }
   },
   "cell_type": "code",
   "source": [
    "# get the slide links, the tile, date, and video link\n",
    "slides = soup.find_all(\"tr\")[1:]\n",
    "slide_links = [s.find(\"a\")[\"href\"] for s in slides]\n",
    "slide_titles = [s.find(\"a\").text for s in slides]\n",
    "slide_dates = [s.find_all(\"td\")[1].text for s in slides]\n",
    "slide_videos = []\n",
    "for s in slides:\n",
    "    try:\n",
    "        slide_videos.append(s.find(\"div\")[\"ytsrc\"])\n",
    "    except:\n",
    "        slide_videos.append(s.find_all(\"td\")[2].text)\n",
    "# add https://www.youtube.com/watch?v= to the video links\n",
    "slide_videos = [v[v.rfind(\"embed/\") + 6:] for v in slide_videos]\n"
   ],
   "id": "88a0ac667f7e8900",
   "outputs": [],
   "execution_count": 100
  },
  {
   "metadata": {
    "ExecuteTime": {
     "end_time": "2024-12-29T23:45:57.929776653Z",
     "start_time": "2024-12-29T23:41:49.739048Z"
    }
   },
   "cell_type": "code",
   "source": "slides",
   "id": "613c7eb9feab76c2",
   "outputs": [
    {
     "data": {
      "text/plain": [
       "[]"
      ]
     },
     "execution_count": 65,
     "metadata": {},
     "output_type": "execute_result"
    }
   ],
   "execution_count": 65
  },
  {
   "metadata": {
    "ExecuteTime": {
     "end_time": "2024-12-29T23:45:57.930144304Z",
     "start_time": "2024-12-29T23:41:49.758771Z"
    }
   },
   "cell_type": "code",
   "source": "slide_links",
   "id": "9aeebadd1b5a496d",
   "outputs": [
    {
     "data": {
      "text/plain": [
       "[]"
      ]
     },
     "execution_count": 66,
     "metadata": {},
     "output_type": "execute_result"
    }
   ],
   "execution_count": 66
  },
  {
   "metadata": {
    "ExecuteTime": {
     "end_time": "2024-12-29T23:45:57.930359039Z",
     "start_time": "2024-12-29T23:41:49.808292Z"
    }
   },
   "cell_type": "code",
   "source": "slide_titles",
   "id": "441beffeb17d53c9",
   "outputs": [
    {
     "data": {
      "text/plain": [
       "[]"
      ]
     },
     "execution_count": 67,
     "metadata": {},
     "output_type": "execute_result"
    }
   ],
   "execution_count": 67
  },
  {
   "metadata": {
    "ExecuteTime": {
     "end_time": "2024-12-29T23:45:57.940505866Z",
     "start_time": "2024-12-29T23:41:49.837269Z"
    }
   },
   "cell_type": "code",
   "source": "slide_dates",
   "id": "423e988dc246bef0",
   "outputs": [
    {
     "data": {
      "text/plain": [
       "[]"
      ]
     },
     "execution_count": 68,
     "metadata": {},
     "output_type": "execute_result"
    }
   ],
   "execution_count": 68
  },
  {
   "metadata": {
    "ExecuteTime": {
     "end_time": "2024-12-29T23:45:57.942570527Z",
     "start_time": "2024-12-29T23:41:50.060548Z"
    }
   },
   "cell_type": "code",
   "source": "slide_videos",
   "id": "ad662419f6446569",
   "outputs": [
    {
     "data": {
      "text/plain": [
       "[]"
      ]
     },
     "execution_count": 69,
     "metadata": {},
     "output_type": "execute_result"
    }
   ],
   "execution_count": 69
  },
  {
   "metadata": {
    "ExecuteTime": {
     "end_time": "2024-12-29T23:45:57.942916549Z",
     "start_time": "2024-12-29T23:41:50.130496Z"
    }
   },
   "cell_type": "code",
   "source": [
    "# create a dataframe\n",
    "\n",
    "df = pd.DataFrame({\n",
    "    \"title\": slide_titles,\n",
    "    \"date\": slide_dates,\n",
    "    \"video\": slide_videos,\n",
    "    \"link\": slide_links\n",
    "})\n",
    "df.to_csv(f\"{class_names[1].replace(' ', '_')}.csv\", index=False)"
   ],
   "id": "91723ee6bebc9eed",
   "outputs": [],
   "execution_count": 70
  },
  {
   "metadata": {},
   "cell_type": "markdown",
   "source": "",
   "id": "40f849578e7c0b1e"
  }
 ],
 "metadata": {
  "kernelspec": {
   "display_name": "Python 3",
   "language": "python",
   "name": "python3"
  },
  "language_info": {
   "codemirror_mode": {
    "name": "ipython",
    "version": 2
   },
   "file_extension": ".py",
   "mimetype": "text/x-python",
   "name": "python",
   "nbconvert_exporter": "python",
   "pygments_lexer": "ipython2",
   "version": "2.7.6"
  }
 },
 "nbformat": 4,
 "nbformat_minor": 5
}
