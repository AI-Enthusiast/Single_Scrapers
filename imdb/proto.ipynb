{
 "cells": [
  {
   "cell_type": "code",
   "id": "initial_id",
   "metadata": {
    "collapsed": true,
    "ExecuteTime": {
     "end_time": "2024-11-12T04:19:30.961066Z",
     "start_time": "2024-11-12T04:19:30.957758Z"
    }
   },
   "source": [
    "import concurrent\n",
    "import os\n",
    "import time\n",
    "import requests\n",
    "import tqdm\n",
    "import random\n",
    "import pandas as pd\n",
    "import urllib.request\n",
    "from selenium import webdriver\n",
    "from selenium.webdriver.chrome.service import Service\n",
    "from webdriver_manager.firefox import GeckoDriverManager\n",
    "from bs4 import BeautifulSoup\n"
   ],
   "outputs": [],
   "execution_count": 24
  },
  {
   "metadata": {
    "ExecuteTime": {
     "end_time": "2024-11-12T04:19:31.005169Z",
     "start_time": "2024-11-12T04:19:31.003183Z"
    }
   },
   "cell_type": "code",
   "source": [
    "# url = 'https://www.imdb.com/chart/boxoffice/?ref_=nv_ch_cht'\n",
    "# url = 'https://www.imdb.com/chart/boxoffice/'\n",
    "url = 'https://www.boxofficemojo.com/daily/chart/?ref_=chtbo'"
   ],
   "id": "70b8d9c3e7013e02",
   "outputs": [],
   "execution_count": 25
  },
  {
   "metadata": {
    "ExecuteTime": {
     "end_time": "2024-11-12T04:19:32.155653Z",
     "start_time": "2024-11-12T04:19:31.048377Z"
    }
   },
   "cell_type": "code",
   "source": [
    "raw = requests.get(url, headers={'User-Agent': 'Mozilla/5.0'})\n",
    "soup = BeautifulSoup(raw.text, 'html.parser')"
   ],
   "id": "3d4727cfc34cad17",
   "outputs": [],
   "execution_count": 26
  },
  {
   "metadata": {
    "ExecuteTime": {
     "end_time": "2024-11-12T04:19:32.195987Z",
     "start_time": "2024-11-12T04:19:32.194358Z"
    }
   },
   "cell_type": "code",
   "source": "",
   "id": "36c9fad1db2eaa2",
   "outputs": [],
   "execution_count": null
  },
  {
   "metadata": {
    "ExecuteTime": {
     "end_time": "2024-11-12T21:55:07.068082Z",
     "start_time": "2024-11-12T21:54:59.427081Z"
    }
   },
   "cell_type": "code",
   "source": [
    "from imdb import Cinemagoer\n",
    "\n",
    "# create an instance of the Cinemagoer class\n",
    "ia = Cinemagoer()\n",
    "\n",
    "# get a movie\n",
    "movie = ia.get_movie('0133093')\n",
    "\n",
    "# print the names of the directors of the movie\n",
    "print('Directors:')\n",
    "for director in movie['directors']:\n",
    "    print(director['name'])\n",
    "\n",
    "# print the genres of the movie\n",
    "print('Genres:')\n",
    "for genre in movie['genres']:\n",
    "    print(genre)\n",
    "\n",
    "# search for a person name\n",
    "people = ia.search_person('Mel Gibson')\n",
    "for person in people:\n",
    "    print(person.personID, person['name'])"
   ],
   "id": "13c333eefa83ae4b",
   "outputs": [
    {
     "name": "stdout",
     "output_type": "stream",
     "text": [
      "Directors:\n",
      "Lana Wachowski\n",
      "Lilly Wachowski\n",
      "Genres:\n",
      "Action\n",
      "Sci-Fi\n",
      "0000154 Mel Gibson\n",
      "12550288 Mel Gibson\n",
      "15271356 Mel Gibson\n",
      "0317112 Mel Gibson\n",
      "2153167 Mel Gibson\n",
      "2800055 Mel Gibson\n",
      "4798507 Mel A. Gibson\n",
      "3742421 Melina Mari Bryant\n",
      "2736583 Adam Taylor\n",
      "0879085 Tyrese Gibson\n",
      "0317096 Meg Gibson\n",
      "0684545 Julie Pinson\n",
      "8908771 Millie Gibson\n",
      "0316995 Hoot Gibson\n",
      "0316945 Donal Gibson\n",
      "5268367 William Gibson\n",
      "6521923 Mel Gibbon\n",
      "2988370 Mal Gibson\n",
      "0316932 Dean Paul Gibson\n",
      "0316878 Cal Gibson\n"
     ]
    }
   ],
   "execution_count": 32
  }
 ],
 "metadata": {
  "kernelspec": {
   "display_name": "Python 3",
   "language": "python",
   "name": "python3"
  },
  "language_info": {
   "codemirror_mode": {
    "name": "ipython",
    "version": 2
   },
   "file_extension": ".py",
   "mimetype": "text/x-python",
   "name": "python",
   "nbconvert_exporter": "python",
   "pygments_lexer": "ipython2",
   "version": "2.7.6"
  }
 },
 "nbformat": 4,
 "nbformat_minor": 5
}
